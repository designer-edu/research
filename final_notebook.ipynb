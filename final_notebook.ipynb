{
 "cells": [
  {
   "cell_type": "markdown",
   "metadata": {},
   "source": [
    "# Video Games and CS Education: Data analysis to understand how students think about game design\n",
    "By Kristina Holsapple\n",
    "### Problem Description: \n",
    "\n",
    "This data analysis explores how computer science students, specifically introductory students, think about video game and video game design. In designing application programming interfaces (APIs) for online tools, it is becoming more common for developers to consult their intended audience throughout the design process. When data regarding user preconceptions exists, developers can use this data to guide design principles of an API. Although tools currently exist to help programmers develop video games, the broad problem regarding this analysis is that prior data regarding student preconceptions of game design does not exist. Thus, current game development tools have not been designed with respect to how users understand and expect the tool to work. Analysis of this data has the potential to guide future design of a student and classroom-friendly library for students to learn computer science through game design. \n",
    "\n",
    "### Problem Background: \n",
    "\n",
    "It is well known in Computer Science Education literature that games are a motivating context for students to learn computer science. For example, positive factors of game development in educational settings include enthusiastic response to instruction and appeal to different student demographics according to [\"Teaching Computer Science through Game Design\"](https://ieeexplore.ieee.org/stamp/stamp.jsp?arnumber=1297314&tag=1) by Mark Overmars (2004) improved problem-solving skills according to Mete Ackcaoglu's [\"Learning problem-solving through making games at the game design and learning summer program\"](https://link.springer.com/article/10.1007/s11423-014-9347-4) (2014). \n",
    "\n",
    "Students use game development tools to develop games. However, users of Application Programming Interfaces (APIs) of programming tools can experience a challenging learning curve, [according to Myers and Stylos](https://dl.acm.org/doi/10.1145/2896587) (2016). Myers and Stylos discuss how human-centered design can improve API usability. User-centered design includes involving the intended users in the design process of a tool. \n",
    "\n",
    "The most prominent example of user-centered design in Computer Science Edcuation is the development of the programming language [Quorum](https://quorumlanguage.com/evidence.html). Quorum's design was evidence-oriented, meaning that design choices were made with user perceptions of programming in mind. Quorum was designed to support computer science for all, a movement to make computer science more inclusive and reach more students with computer science education. \n",
    "\n",
    "Python is a popular beginner programming langauge to learn, and game development libraries do exist for Python. [Pygame](https://www.pygame.org) claims to be light-weight, simple, and easy-to-use, although there is no peer-reviewed evidence to support this claim. [Arcade](https://arcade.academy/) promotes their Python game development library as being easy-to-learn and ideal for people learning to program. Although this intention is supportive of the learning experience, Arcade's design lacks the evidence that is evidence in user-centered design. \n",
    "\n",
    "By designing a tool for an audience based on their understanding of the tool, ideally the audience's learning and use of the tool feels more natural and compensates for the learning curve of both game development and API usage. Research that supports the learning experience of students is valuable because learning is valuable. \n",
    "\n"
   ]
  },
  {
   "cell_type": "markdown",
   "metadata": {},
   "source": [
    "### Dataset: \n",
    "\n",
    "Data analyzed comes from two surveys asked of introductory computer science students. In the fall semester of 2020, my co-PI and I designed and conducted our first survey, (referred to later and in code as survey version 1/v1) asking CISC108: Introduction to Computer Science I students about their preconceptions of game design vocabulary and logic (see further details later in Research Questions). After reviewing how students understood and answered questions, we acknowledged shortcomings of our survey. \n",
    "\n",
    "Based on our limitations of survey v1, we altered some question phrasing to establish our second survey (survey version 2/v2). Changes were minimal and meant to mitigate bias. Overall, the game vocabulary and logic we asked in version 1 remained the same topics we asked in this second version. We launched this survey with CISC108 and CISC106: Introduction to Computer Science for Engineers students in the spring semester of 2021. \n",
    "\n",
    "The survey data consists of two types of questions: free-response and multiple choice. Free-response questions (referred to later and in code as 'Open' questions) prompted students to answer questions with a text response. Multiple choice questions (referred to later and in code as 'Closed' questions) asked students questions with a list of 3-8 multiple choice options. \n",
    "\n",
    "This data analysis comprehensively examines responses from versions 1 and 2 of our survey, with specific focus on differences in responses between survey version as well as differences in responses based on students' self-reported prior experience with programming and game design.  \n",
    "\n",
    "### Research Questions: \n",
    "\n",
    "To design an evidence-oriented game development library for students, it is necessary to understand how students think about video games and game development. \n",
    "\n",
    "The questions I answer with this dataset are: \n",
    "\n",
    "#### RQ1. What vocabulary do novices use when thinking about video games?\n",
    "\n",
    "  Specifically, how do students think about terms commonly referred to as: \n",
    "  \n",
    "- Functions to generate shapes\n",
    "- Game screen\n",
    "- Animations - characters moving as well as graphics happening on a loop \n",
    "- Game iterations\n",
    "- Event handling \n",
    "- Game state\n",
    "- Sprites \n",
    "    \n",
    "This question and these concepts were justified in a couple of ways. Anecdotally, as an introductory student who learned CS with game deveopment, I struggled for weeks with the vocabulary and concept of sprites (interactive game graphics). More importantly, existing game library APIs such as Pygame and Arcade's refer to many of these concepts with different terms. For multiple choice questions inquiring about these topics, multiple choice options were chosen from existing game library APIs. Without an existing consensus of how students perceive these concepts, this survey data can offer insight into which terms students most relate to. \n",
    "\n",
    "#### RQ2. Is there significant difference between survey results based on survey version (1 or 2) or participants prior programming and game development experience? \n",
    "\n",
    "This question is of importance because it indicates how we can treat the data for further analysis. We initially decided to conduct a second iteration of the survey due to the small sample size of version 1. If there is no significant difference based on survey version, we can pool data from both versions together for a larger sample size and more analysis. Questions that are significantly different based on survey version offer insight into survey change implications. \n",
    "\n",
    "Analyzing results based on prior programming and game design experience offer insight into how students with different prior knowledge may interact with game design libraries. Students were sorted into four groups: \n",
    "- No prior programming experience, no prior game design experience\n",
    "- No prior programming experience, prior game design experience\n",
    "- Prior programming experience, no prior game design experience\n",
    "- Prior programming experience, prior game design experience \n",
    "\n",
    "Although this research has an emphasis on novice preconceptions (the less experience the better), significant differences based on these groups may indicate design challenges in catering to different users' needs that are important to be transparent and forthcoming about throughout the design process. \n",
    "    \n",
    "#### RQ3. Do results indicate game development vocabulary that best aligns with how novices think about video games? If so, what vocabulary is ideal? \n",
    "\n",
    "Based on answers to RQ2, it will be interesting to see if there are clear results in support of API design for a game design library. The goals of this analysis are to (1) understand how students think about game design before learning game design in a classroom setting and (2) use these results to guide the evidence-based design of a student-friendly game library.\n",
    "\n",
    "Our results hope to support the development of a game library with the same intentions as libraries such as Pygame and Arcade. These intentions include understanding, valuing, and supporting the learning experience of students as they navigate learning computer science, an already difficult journey. Our process is unique in seeking out evidence from the students we hope to help in order to include them in the design process. In this way, rather than only claiming to support learners once the library has been designed, our design process is comprehensively supportive of students. \n",
    "\n",
    "### Ethical Concerns:\n",
    "Ethical considerations of this investigation include the delicate nature of student education. Student education is important and should not be unnecessarily interrupted and disturbed. Research regarding education runs the risk of disrupting students' edcuation, and this should be acknowledged and accounted for. Additionally, video games in the media tend to target male audiences. A concern is that game development in education may favor male students if not presented appropriately. \n",
    "\n",
    "Regarding data science specifically, ethical concerns also exist in analyzing this specific data. We acknowledge bias throughout our design, and want to acknowledge that this data is only the start of evidence-oriented game libraries. Placing too much emphasis on only the data offered here overvalues a predominantly male sample from a predominantly white institute such as the Univeristy of Delaware. \n",
    "\n",
    "Additionally, although we hope to take a more scientific and evidence-based approach to game library development, not everything was justified by scientific decision-making. Specifically, the way we chose the specific concepts investigated in our survey questions does not have scientific justification. We chose concepts we anecdotally caused students problems, as well as concepts for which multiple terms exist in current game libraries, but the concepts we chose are not comphrehensive. Choosing to focus on the concepts we did runs the risk of completely disregarding other concepts that students challenge with. This ethical concern can be mitigated in future stages of design process. For example, once a prototype of the game library exists and we have students test the library, we can ask them more broad questions to evaluate the challenges they faced using the library, during which different concepts we have not yet collected data for may become apparent. For now, we can acknowledge this ethical concern, aware that our data is not exhaustive, and commit to monitoring this concern as we move forward with the data. "
   ]
  },
  {
   "cell_type": "code",
   "execution_count": 1,
   "metadata": {},
   "outputs": [],
   "source": [
    "import pandas as pd\n",
    "import scipy.stats as st\n",
    "import numpy as np\n",
    "import matplotlib as mpl\n",
    "import matplotlib.pyplot as plt\n",
    "import ast\n",
    "from pedal import * "
   ]
  },
  {
   "cell_type": "markdown",
   "metadata": {},
   "source": [
    "# Helper functions and data\n",
    "During a lot of the analysis I ended up doing, I noticed I was repeating code. I defined these functions to help decompose and organize my analysis. "
   ]
  },
  {
   "cell_type": "code",
   "execution_count": 2,
   "metadata": {},
   "outputs": [],
   "source": [
    "clear_report()\n",
    "def get_called_function(node):\n",
    "    # use Pedal to get called function \n",
    "    if node.ast_name == \"Attribute\":\n",
    "        left = get_called_function(node.value)\n",
    "        right = node.attr\n",
    "        return f\"{left}.{right}\"\n",
    "    elif node.ast_name == \"Name\":\n",
    "        return node.id\n",
    "    \n",
    "def make_cont_tables(df, headers): \n",
    "    # make contingency tables for each survey based on prior experience.\n",
    "    for header in headers: \n",
    "        print(header + ' totals and contingency table based on prior experience')\n",
    "        print(df[header].str.strip().str.lower().value_counts())\n",
    "        display(make_exp_table(df, header))\n",
    "    \n",
    "def make_table_by_q(df, header):\n",
    "    # make frequency table for one question sliced by survey version\n",
    "    print(header + ' contingency table')\n",
    "    table = (pd.crosstab(df.Version, df[header], margins = True))\n",
    "    # display(table)\n",
    "    return table\n",
    "\n",
    "def make_exp_table(df, header): \n",
    "    # make frequency table for one question sliced by prior experience\n",
    "    print(header + ' by experience')\n",
    "    table = pd.crosstab([df.Prior, df.PriorGameDev], df[header].str.lower().str.strip(), margins=True)\n",
    "    # display(table)\n",
    "    return table\n",
    "        \n",
    "def perform_all_chi(df, headers): \n",
    "    # perform chi-square independence test on each question sliced by survey version.\n",
    "    p_values = []\n",
    "    for header in headers: \n",
    "        cont_tbl = pd.crosstab(df['Version'], df[header], margins=False)\n",
    "        chi = st.chi2_contingency(cont_tbl.values.tolist())\n",
    "        p_values.append(chi[1])\n",
    "    return p_values\n",
    "    \n",
    "def perform_exp_chi(df, headers): \n",
    "    # perform chi-square indpendence test on each question sliced by experience.\n",
    "    p_values = []\n",
    "    for header in headers:\n",
    "        cont_tbl = pd.crosstab([df.Prior, df.PriorGameDev], df[header], margins = False)\n",
    "        chi = st.chi2_contingency(cont_tbl.values.tolist())\n",
    "        p_values.append(chi[1])\n",
    "    return p_values\n",
    "\n",
    "def analyze_free_response(df, header, exp): \n",
    "    # analyze free response questions \n",
    "    pd.set_option(\"display.max_rows\", None, \"display.max_columns\", None)\n",
    "    if exp: \n",
    "        table = make_exp_table(df, header)\n",
    "        table = table.drop('All', axis=1).dropna().sort_values(('All',''), axis=1, ascending=False)\n",
    "    else: \n",
    "        table = make_table_by_q(df, header)\n",
    "        table = table.drop('All', axis=1).sort_values(by='All', axis=1, ascending=False)\n",
    "    return table\n",
    "\n",
    "def analyze_open_end(df, header):\n",
    "    # analyze open ended code \n",
    "    total = {\n",
    "        'methods': 0,\n",
    "        'functions': 0,\n",
    "        'both': 0,\n",
    "        'test cases': 0,\n",
    "        'graphics': 0,\n",
    "        'pens': 0,\n",
    "        'for': 0,\n",
    "        'while': 0, \n",
    "        'if': 0,\n",
    "        'func def': 0\n",
    "    }\n",
    "    for code in df[header]:\n",
    "        methods = False\n",
    "        functions = False\n",
    "        clear_report()\n",
    "        code = str(code)\n",
    "        calls = find_asts(\"Call\", code)\n",
    "        num_for = len(find_asts(\"For\", code))\n",
    "        num_while = len(find_asts(\"While\", code))\n",
    "        called_functions = [get_called_function(c.func) for c in calls]\n",
    "        for c in calls:   \n",
    "            if c.func.ast_name == \"Name\":\n",
    "                methods = True\n",
    "            if c.func.ast_name == \"Attribute\":\n",
    "                functions = True    \n",
    "        if functions & methods:\n",
    "            total['both'] += 1\n",
    "            methods = 0\n",
    "            functions = 0\n",
    "        if methods:\n",
    "            total['methods'] += 1\n",
    "        if functions:\n",
    "            total['functions'] += 1\n",
    "        if \"assert_equal\" in code:\n",
    "            total['test cases'] += 1\n",
    "        if \"graphics\" in code:\n",
    "            total['graphics'] += 1\n",
    "        if \" pen\" in code:\n",
    "            total['pens'] += 1\n",
    "        if 'if' in code:\n",
    "            total['if'] += 1\n",
    "        if 'def' in code:\n",
    "            total['func def'] += 1\n",
    "        if num_for != 0: \n",
    "            total['for'] += 1\n",
    "        if num_while != 0:\n",
    "            total['while'] += 1\n",
    "    lines_char = avg_lines_char(df, header)\n",
    "    show_line_char_graph_calc(lines_char)\n",
    "    analyze_open_code(df)\n",
    "    return total\n",
    "\n",
    "def chi_per_version(headers): \n",
    "    # perform chi squared test for independence based on survey version\n",
    "    for header in headers:\n",
    "        cont_tbl = pd.crosstab([v1.Prior, v1.PriorGameDev], v1[header], margins = False)\n",
    "        chi = st.chi2_contingency(cont_tbl.values.tolist())\n",
    "        print(f\"p-value of v1 based on prior experience: {chi[1]}\")\n",
    "        cont_tbl = pd.crosstab([v2.Prior, v2.PriorGameDev], v2[header], margins = False)\n",
    "        chi = st.chi2_contingency(cont_tbl.values.tolist())\n",
    "        print(f\"p-value of v2 based on prior experience: {chi[1]}\")\n",
    "         \n",
    "\n",
    "def clean_text(text):\n",
    "    # function applied to open-ended responses to uniformize responses\n",
    "    text = str(text)\n",
    "    text.lower()\n",
    "    if 'def' in text:\n",
    "        text = text.replace('def', '')\n",
    "    if '()' in text:\n",
    "        text = text.replace('()', '')\n",
    "    if text[-1] == 's':\n",
    "        text = text[:-1]\n",
    "    text = text.strip()\n",
    "    return text\n",
    "    \n",
    "def analyze_open_code(df): \n",
    "    # process open-ended responses \n",
    "    # function not written by KH, written by co-PI\n",
    "    student_programs = df['GameDevOpenCode']\n",
    "    broken, working = 0, 0\n",
    "    for program in student_programs:\n",
    "        try:\n",
    "            program = str(program)\n",
    "            ast.parse(program)\n",
    "            working += 1\n",
    "        except SyntaxError:\n",
    "            broken += 1\n",
    "    print(f\"\\nBroken: {broken}; Working: {working}\")\n",
    "    \n",
    "def show_line_char_graph_calc(lines_char):\n",
    "    # shows graphs for distribution of open-ended responses based on line and character length\n",
    "    # performs Shapiro Wilks test for normality on responses\n",
    "    plt.hist(lines_char[0])\n",
    "    plt.title(\"Distribution of Number of Lines per Response\")\n",
    "    plt.show()\n",
    "    plt.hist(lines_char[1])\n",
    "    plt.title(\"Distribution of Number of Characters per Response\")\n",
    "    plt.show()\n",
    "    lines_stat, line_p = st.shapiro(lines_char[0])\n",
    "    char_stat, char_p = st.shapiro(lines_char[1])\n",
    "    print(\"Num Lines Normality on an interval of .05: \", lines_stat, line_p, line_p < 0.05)\n",
    "    print(\"Num Characters Normality on an interval of .05: \", char_stat, char_p, char_p < 0.05)\n",
    "\n",
    "def avg_lines_char(df, header): \n",
    "    # calculates lines and characters averages as well as lists of line count responses and char count respones \n",
    "    lines_count = 0\n",
    "    char_count = 0\n",
    "    student_codes = df[header].dropna()\n",
    "    num_codes = len(student_codes)\n",
    "    lines_all = []\n",
    "    char_all = []\n",
    "    for code in student_codes:\n",
    "        code = str(code)\n",
    "        len_code = len(code)\n",
    "        lines = (code.count('\\n') + 1)\n",
    "        lines_count += lines\n",
    "        char_count += len_code\n",
    "        lines_all.append(lines)\n",
    "        char_all.append(len_code)\n",
    "    lines_avg = lines_count / num_codes\n",
    "    char_avg = char_count / num_codes\n",
    "    return [lines_all, char_all]"
   ]
  },
  {
   "cell_type": "markdown",
   "metadata": {},
   "source": [
    "### Analysis process\n",
    "My data comes from two surveys, which I will refer to as survey version one and two. Analysis will be done on each survey individually. Then testing will be conducted to determine when it is appropriate to combine survey results."
   ]
  },
  {
   "cell_type": "markdown",
   "metadata": {},
   "source": [
    "# Data Cleaning/Transformation Survey v1\n",
    "Load fall 2020 survey 1 data from CSV file. Drop data irrelevant to data analysis. "
   ]
  },
  {
   "cell_type": "code",
   "execution_count": 3,
   "metadata": {},
   "outputs": [],
   "source": [
    "v1 = pd.read_csv('f20_game_dev_library_data.csv')\n",
    "v1 = v1.drop(columns=['FinalGrade', 'Midterm', 'CanvasGrade', 'Section', 'Lab', 'TAEngagement', 'TACommunication', 'MeanDiffRank', 'Points', 'Hours Spent in BlockPy', 'Median # of Days Submitted Before Due Date', 'Number of Days Spent Working', 'Assignments With 0s', 'Native Speaker?', 'Location', 'Race/Ethnicity', 'coarse_race', 'PointsGrade', 'MockMidterm14', 'Level', 'OpenPython', 'OpenCode'])"
   ]
  },
  {
   "cell_type": "markdown",
   "metadata": {},
   "source": [
    "Drop rows without survey responses. Filter prior game development experience to yes or no. "
   ]
  },
  {
   "cell_type": "code",
   "execution_count": 4,
   "metadata": {},
   "outputs": [],
   "source": [
    "v1 = v1.dropna(subset=['PriorGameDev'])\n",
    "v1['PriorGameDev'] = v1['PriorGameDev'].mask(v1['PriorGameDev'] != 'No.', 'Yes.')"
   ]
  },
  {
   "cell_type": "markdown",
   "metadata": {},
   "source": [
    "Define list of headers for survey questions."
   ]
  },
  {
   "cell_type": "code",
   "execution_count": 5,
   "metadata": {},
   "outputs": [],
   "source": [
    "survey_headers = ['OpenShape', 'OpenScreen', 'ClosedScreen', 'OpenMovement', 'ClosedMovement', 'ClosedWave', 'ClosedStep', 'ClosedEvent', 'ClosedState', 'OpenSprite',\n",
    "                 'ClosedSprite']"
   ]
  },
  {
   "cell_type": "markdown",
   "metadata": {},
   "source": [
    "# Data Distribution Survey v1\n",
    "Make table observing distribution of experience levels. "
   ]
  },
  {
   "cell_type": "code",
   "execution_count": 6,
   "metadata": {},
   "outputs": [
    {
     "data": {
      "text/html": [
       "<div>\n",
       "<style scoped>\n",
       "    .dataframe tbody tr th:only-of-type {\n",
       "        vertical-align: middle;\n",
       "    }\n",
       "\n",
       "    .dataframe tbody tr th {\n",
       "        vertical-align: top;\n",
       "    }\n",
       "\n",
       "    .dataframe thead th {\n",
       "        text-align: right;\n",
       "    }\n",
       "</style>\n",
       "<table border=\"1\" class=\"dataframe\">\n",
       "  <thead>\n",
       "    <tr style=\"text-align: right;\">\n",
       "      <th>PriorGameDev</th>\n",
       "      <th>No.</th>\n",
       "      <th>Yes.</th>\n",
       "    </tr>\n",
       "    <tr>\n",
       "      <th>Prior</th>\n",
       "      <th></th>\n",
       "      <th></th>\n",
       "    </tr>\n",
       "  </thead>\n",
       "  <tbody>\n",
       "    <tr>\n",
       "      <th>False</th>\n",
       "      <td>19</td>\n",
       "      <td>1</td>\n",
       "    </tr>\n",
       "    <tr>\n",
       "      <th>True</th>\n",
       "      <td>21</td>\n",
       "      <td>35</td>\n",
       "    </tr>\n",
       "  </tbody>\n",
       "</table>\n",
       "</div>"
      ],
      "text/plain": [
       "PriorGameDev  No.  Yes.\n",
       "Prior                  \n",
       "False          19     1\n",
       "True           21    35"
      ]
     },
     "metadata": {},
     "output_type": "display_data"
    }
   ],
   "source": [
    "v1_dist = pd.crosstab(v1['Prior'], v1['PriorGameDev'], margins=False)\n",
    "display(v1_dist)"
   ]
  },
  {
   "cell_type": "markdown",
   "metadata": {},
   "source": [
    "# Data Cleaning Spring 21 Survey v2\n",
    "Load spring 2021 survey 2 data from CSV file and format file. "
   ]
  },
  {
   "cell_type": "code",
   "execution_count": 7,
   "metadata": {},
   "outputs": [],
   "source": [
    "v2 = pd.read_csv('s21_game_dev_library_data.csv')\n",
    "column_names = v2.iloc[0]\n",
    "v2.columns = column_names\n",
    "v2 = v2.drop([0, 1])\n",
    "v2 = v2.reset_index(drop=True)"
   ]
  },
  {
   "cell_type": "markdown",
   "metadata": {},
   "source": [
    "Remove columns from results not pertinent to data analysis. "
   ]
  },
  {
   "cell_type": "code",
   "execution_count": 8,
   "metadata": {},
   "outputs": [],
   "source": [
    "v2 = v2.drop(columns=['Status', 'IPAddress', 'Duration (in seconds)', 'Progress', 'Finished', 'RecordedDate', 'ResponseId', 'RecipientLastName',\n",
    "                     'RecipientFirstName', 'RecipientEmail', 'ExternalReference', 'LocationLatitude', 'LocationLongitude', 'DistributionChannel', 'UserLanguage'])"
   ]
  },
  {
   "cell_type": "markdown",
   "metadata": {},
   "source": [
    "Remove non-consenting responses and determine number of participants. "
   ]
  },
  {
   "cell_type": "code",
   "execution_count": 9,
   "metadata": {},
   "outputs": [
    {
     "name": "stdout",
     "output_type": "stream",
     "text": [
      "Number of consenting participants: 118\n"
     ]
    }
   ],
   "source": [
    "v2 = v2[v2.Q16 != 'I do not consent to participate in the research study.']\n",
    "print('Number of consenting participants: ' + str(len(v2)))"
   ]
  },
  {
   "cell_type": "markdown",
   "metadata": {},
   "source": [
    "Filter prior experience question to True/False"
   ]
  },
  {
   "cell_type": "code",
   "execution_count": 10,
   "metadata": {},
   "outputs": [],
   "source": [
    "v2['PriorGameDev'] = v2['PriorGameDev'].mask(v2['PriorGameDev'] != 'No.', 'Yes.')\n",
    "v2['Prior'] = v2['Prior'].mask(v2['Prior'] != ('None'), True)\n",
    "v2['Prior'] = v2['Prior'].mask(v2['Prior'] != True, False)"
   ]
  },
  {
   "cell_type": "markdown",
   "metadata": {},
   "source": [
    "Get gender demographics"
   ]
  },
  {
   "cell_type": "code",
   "execution_count": 11,
   "metadata": {},
   "outputs": [
    {
     "data": {
      "text/plain": [
       "Man                         67\n",
       "Woman                       39\n",
       "Man,Prefer not to answer     1\n",
       "Name: Gender, dtype: int64"
      ]
     },
     "execution_count": 11,
     "metadata": {},
     "output_type": "execute_result"
    }
   ],
   "source": [
    "v2['Gender'].value_counts()"
   ]
  },
  {
   "cell_type": "markdown",
   "metadata": {},
   "source": [
    "# Data Distribution Survey v2 and Comparison\n",
    "Edit `survey_headers` to account for changes to survey. "
   ]
  },
  {
   "cell_type": "code",
   "execution_count": 12,
   "metadata": {},
   "outputs": [],
   "source": [
    "survey_headers.remove('OpenMovement')"
   ]
  },
  {
   "cell_type": "markdown",
   "metadata": {},
   "source": [
    "Find participants per levels of experience and compare to v1."
   ]
  },
  {
   "cell_type": "code",
   "execution_count": 13,
   "metadata": {},
   "outputs": [
    {
     "data": {
      "text/html": [
       "<div>\n",
       "<style scoped>\n",
       "    .dataframe tbody tr th:only-of-type {\n",
       "        vertical-align: middle;\n",
       "    }\n",
       "\n",
       "    .dataframe tbody tr th {\n",
       "        vertical-align: top;\n",
       "    }\n",
       "\n",
       "    .dataframe thead th {\n",
       "        text-align: right;\n",
       "    }\n",
       "</style>\n",
       "<table border=\"1\" class=\"dataframe\">\n",
       "  <thead>\n",
       "    <tr style=\"text-align: right;\">\n",
       "      <th>PriorGameDev</th>\n",
       "      <th>No.</th>\n",
       "      <th>Yes.</th>\n",
       "    </tr>\n",
       "    <tr>\n",
       "      <th>Prior</th>\n",
       "      <th></th>\n",
       "      <th></th>\n",
       "    </tr>\n",
       "  </thead>\n",
       "  <tbody>\n",
       "    <tr>\n",
       "      <th>False</th>\n",
       "      <td>51</td>\n",
       "      <td>5</td>\n",
       "    </tr>\n",
       "    <tr>\n",
       "      <th>True</th>\n",
       "      <td>31</td>\n",
       "      <td>31</td>\n",
       "    </tr>\n",
       "  </tbody>\n",
       "</table>\n",
       "</div>"
      ],
      "text/plain": [
       "PriorGameDev  No.  Yes.\n",
       "Prior                  \n",
       "False          51     5\n",
       "True           31    31"
      ]
     },
     "metadata": {},
     "output_type": "display_data"
    },
    {
     "data": {
      "image/png": "[encoded data removed]",
      "text/plain": [
       "<Figure size 432x432 with 1 Axes>"
      ]
     },
     "metadata": {},
     "output_type": "display_data"
    },
    {
     "data": {
      "image/png": "[encoded data removed]",
      "text/plain": [
       "<Figure size 432x432 with 1 Axes>"
      ]
     },
     "metadata": {},
     "output_type": "display_data"
    }
   ],
   "source": [
    "v2_dist = pd.crosstab(v2['Prior'], v2['PriorGameDev'], margins=False)\n",
    "display(v2_dist)\n",
    "pi_wedges = v1_dist.groupby(['Prior', 'PriorGameDev']).sum().values.flatten()\n",
    "wedge_labels = ['No prior programming, no prior game dev.', 'No prior programming, prior game dev.', 'Prior programming, no prior game dev.', 'Prior programming, prior game dev.']\n",
    "plt.figure(figsize=(6, 6))\n",
    "plt.pie(x=pi_wedges, colors=['lightcoral', 'lavender', 'lightblue', 'moccasin'],  autopct='%.2f%%', textprops={'fontsize': 12})\n",
    "plt.legend(wedge_labels, bbox_to_anchor=(1.05, 1), prop={'size': 12})\n",
    "plt.title('Percentages of Prior Experience Groups for V1', fontsize=15)\n",
    "plt.show()\n",
    "pi_wedges_2 = v2_dist.groupby(['Prior', 'PriorGameDev']).sum().values.flatten()\n",
    "plt.figure(figsize=(6, 6))\n",
    "plt.pie(x=pi_wedges_2, colors=['lightcoral', 'lavender', 'lightblue', 'moccasin'], autopct='%.2f%%', textprops={'fontsize': 12})\n",
    "plt.legend(wedge_labels, bbox_to_anchor=(1.05, 1), prop={'size': 12})                                                                              \n",
    "plt.title('Percentages of Prior Experience Groups for V2', fontsize=15)\n",
    "plt.show()"
   ]
  },
  {
   "cell_type": "markdown",
   "metadata": {},
   "source": [
    "Compared to v1, different distribution of experience. Noticably more participants without prior levels of experience. "
   ]
  },
  {
   "cell_type": "markdown",
   "metadata": {},
   "source": [
    "# Compare Survey v1 and v2 Distributions"
   ]
  },
  {
   "cell_type": "markdown",
   "metadata": {},
   "source": [
    "\n",
    "Compare responses from surveys 1 and 2 with Chi-Square Independence Test.\n",
    "\n",
    "Perform Chi-Square Independence Test for every shared survey question. \n",
    "\n",
    "If significant difference based on survey version, investigate relationship between responses per survey version and prior experience. \n",
    "\n",
    "Null hypothesis: Survey results are independent of the variable they are sliced upon (either survey version or experience level). \n"
   ]
  },
  {
   "cell_type": "code",
   "execution_count": 14,
   "metadata": {},
   "outputs": [
    {
     "name": "stdout",
     "output_type": "stream",
     "text": [
      "P-Values from Chi Square Independence Test performed individually by survey version and experience level: \n"
     ]
    },
    {
     "data": {
      "text/html": [
       "<div>\n",
       "<style scoped>\n",
       "    .dataframe tbody tr th:only-of-type {\n",
       "        vertical-align: middle;\n",
       "    }\n",
       "\n",
       "    .dataframe tbody tr th {\n",
       "        vertical-align: top;\n",
       "    }\n",
       "\n",
       "    .dataframe thead th {\n",
       "        text-align: right;\n",
       "    }\n",
       "</style>\n",
       "<table border=\"1\" class=\"dataframe\">\n",
       "  <thead>\n",
       "    <tr style=\"text-align: right;\">\n",
       "      <th></th>\n",
       "      <th>OpenShape</th>\n",
       "      <th>OpenScreen</th>\n",
       "      <th>ClosedScreen</th>\n",
       "      <th>ClosedMovement</th>\n",
       "      <th>ClosedWave</th>\n",
       "      <th>ClosedStep</th>\n",
       "      <th>ClosedEvent</th>\n",
       "      <th>ClosedState</th>\n",
       "      <th>OpenSprite</th>\n",
       "      <th>ClosedSprite</th>\n",
       "    </tr>\n",
       "  </thead>\n",
       "  <tbody>\n",
       "    <tr>\n",
       "      <th>sliced by survey version</th>\n",
       "      <td>0.008233</td>\n",
       "      <td>0.422553</td>\n",
       "      <td>1.857338e-12</td>\n",
       "      <td>0.000001</td>\n",
       "      <td>0.499849</td>\n",
       "      <td>0.222499</td>\n",
       "      <td>0.815481</td>\n",
       "      <td>0.069710</td>\n",
       "      <td>0.158248</td>\n",
       "      <td>0.647583</td>\n",
       "    </tr>\n",
       "    <tr>\n",
       "      <th>sliced by experience</th>\n",
       "      <td>0.333725</td>\n",
       "      <td>0.011658</td>\n",
       "      <td>7.237847e-03</td>\n",
       "      <td>0.249262</td>\n",
       "      <td>0.152158</td>\n",
       "      <td>0.237950</td>\n",
       "      <td>0.149999</td>\n",
       "      <td>0.040338</td>\n",
       "      <td>0.019545</td>\n",
       "      <td>0.001064</td>\n",
       "    </tr>\n",
       "  </tbody>\n",
       "</table>\n",
       "</div>"
      ],
      "text/plain": [
       "                          OpenShape  OpenScreen  ClosedScreen  ClosedMovement  \\\n",
       "sliced by survey version   0.008233    0.422553  1.857338e-12        0.000001   \n",
       "sliced by experience       0.333725    0.011658  7.237847e-03        0.249262   \n",
       "\n",
       "                          ClosedWave  ClosedStep  ClosedEvent  ClosedState  \\\n",
       "sliced by survey version    0.499849    0.222499     0.815481     0.069710   \n",
       "sliced by experience        0.152158    0.237950     0.149999     0.040338   \n",
       "\n",
       "                          OpenSprite  ClosedSprite  \n",
       "sliced by survey version    0.158248      0.647583  \n",
       "sliced by experience        0.019545      0.001064  "
      ]
     },
     "metadata": {},
     "output_type": "display_data"
    },
    {
     "name": "stdout",
     "output_type": "stream",
     "text": [
      "\n",
      "\n",
      "P-Values from Chi Square Indpendence Test performed by experience level on responses with significant difference based on survey version: \n"
     ]
    },
    {
     "data": {
      "text/html": [
       "<div>\n",
       "<style scoped>\n",
       "    .dataframe tbody tr th:only-of-type {\n",
       "        vertical-align: middle;\n",
       "    }\n",
       "\n",
       "    .dataframe tbody tr th {\n",
       "        vertical-align: top;\n",
       "    }\n",
       "\n",
       "    .dataframe thead th {\n",
       "        text-align: right;\n",
       "    }\n",
       "</style>\n",
       "<table border=\"1\" class=\"dataframe\">\n",
       "  <thead>\n",
       "    <tr style=\"text-align: right;\">\n",
       "      <th></th>\n",
       "      <th>OpenShape</th>\n",
       "      <th>ClosedScreen</th>\n",
       "      <th>ClosedMovement</th>\n",
       "    </tr>\n",
       "  </thead>\n",
       "  <tbody>\n",
       "    <tr>\n",
       "      <th>v1</th>\n",
       "      <td>0.185385</td>\n",
       "      <td>0.297430</td>\n",
       "      <td>0.786123</td>\n",
       "    </tr>\n",
       "    <tr>\n",
       "      <th>v2</th>\n",
       "      <td>0.818702</td>\n",
       "      <td>0.168839</td>\n",
       "      <td>0.494844</td>\n",
       "    </tr>\n",
       "  </tbody>\n",
       "</table>\n",
       "</div>"
      ],
      "text/plain": [
       "    OpenShape  ClosedScreen  ClosedMovement\n",
       "v1   0.185385      0.297430        0.786123\n",
       "v2   0.818702      0.168839        0.494844"
      ]
     },
     "execution_count": 14,
     "metadata": {},
     "output_type": "execute_result"
    }
   ],
   "source": [
    "v1['Version'] = 1\n",
    "v2['Version'] = 2\n",
    "total = pd.concat([v1, v2])\n",
    "total['ClosedSprite'] = total['ClosedSprite'].str.strip().str.lower()\n",
    "total['OpenShape'] = total['OpenShape'].str.lower()\n",
    "all_chi = perform_all_chi(total, survey_headers)\n",
    "exp_chi = perform_exp_chi(total, survey_headers)\n",
    "total_p_values = pd.DataFrame(list(zip(all_chi, exp_chi)), columns=['sliced by survey version', 'sliced by experience'], index=survey_headers).transpose()\n",
    "print(\"P-Values from Chi Square Independence Test performed individually by survey version and experience level: \")\n",
    "display(total_p_values)\n",
    "print(\"\\n\\nP-Values from Chi Square Indpendence Test performed by experience level on responses with significant difference based on survey version: \")\n",
    "version_headers = ['OpenShape', 'ClosedScreen', 'ClosedMovement']\n",
    "exp_chi_version1 = perform_exp_chi(v1, version_headers)\n",
    "exp_chi_version2= perform_exp_chi(v2, version_headers)\n",
    "pd.DataFrame(list(zip(exp_chi_version1, exp_chi_version2)), columns=['v1', 'v2'], index=version_headers).transpose()"
   ]
  },
  {
   "cell_type": "markdown",
   "metadata": {},
   "source": [
    "For P-values less than our confidence interval of 0.05, we reject the null hypothesis that the results are independent. For example, ClosedMovement's p-value based on survey version is 0.000001, so we reject the null hypothesis and do not conclude that the results per survey version are independent."
   ]
  },
  {
   "cell_type": "markdown",
   "metadata": {},
   "source": [
    "## Pooling V1 and V2 when appropriate\n",
    "\n",
    "Questions with p-values in which we accept the null hypothesis that responses are independent based on survey version, we pooled v1 and v2 results together. \n",
    "When pooled, there were **194 responses**. \n",
    "Maintain total responses from surveys for questions with no significant difference and unusable data ('OpenScreen' that did not measure proper concept). \n",
    "\n",
    "For each question: \n",
    "-  If significant difference was calculated between experience levels, investigate differences between subgroups\n",
    "-  If no significant difference, investigate overall preferences "
   ]
  },
  {
   "cell_type": "code",
   "execution_count": 15,
   "metadata": {},
   "outputs": [],
   "source": [
    "upd_total = total.drop(['OpenShape', 'OpenScreen', 'ClosedScreen', 'ClosedMovement', 'OpenMovement'], axis=1)"
   ]
  },
  {
   "cell_type": "markdown",
   "metadata": {},
   "source": [
    "#### ClosedWave \n",
    "No significant difference based on experience. "
   ]
  },
  {
   "cell_type": "code",
   "execution_count": 16,
   "metadata": {},
   "outputs": [
    {
     "name": "stdout",
     "output_type": "stream",
     "text": [
      "Animation    82\n",
      "Action       73\n",
      "Movement     29\n",
      "Name: ClosedWave, dtype: int64\n"
     ]
    },
    {
     "data": {
      "image/png": "[encoded data removed]",
      "text/plain": [
       "<Figure size 432x432 with 1 Axes>"
      ]
     },
     "metadata": {},
     "output_type": "display_data"
    }
   ],
   "source": [
    "wave_total = upd_total['ClosedWave'].value_counts()\n",
    "print(wave_total)\n",
    "plt.figure(figsize=(6,6))\n",
    "plt.pie(x=wave_total, colors=['lightcoral', 'lightblue', 'moccasin'], autopct='%.2f%%', textprops={'fontsize': 14})\n",
    "plt.title('ClosedWave results from V1 and V2', fontsize=16)\n",
    "plt.legend(['Animation', 'Action', 'Movement'], bbox_to_anchor=(1.05, 1), prop={'size':14})\n",
    "plt.show()"
   ]
  },
  {
   "cell_type": "markdown",
   "metadata": {},
   "source": [
    "`animation` and `action` closely frequent. "
   ]
  },
  {
   "cell_type": "markdown",
   "metadata": {},
   "source": [
    "### ClosedStep \n",
    "No significant difference based on experience."
   ]
  },
  {
   "cell_type": "code",
   "execution_count": 17,
   "metadata": {},
   "outputs": [
    {
     "name": "stdout",
     "output_type": "stream",
     "text": [
      "Repeat       99\n",
      "Iteration    62\n",
      "Step         19\n",
      "Update        4\n",
      "Name: ClosedStep, dtype: int64\n"
     ]
    },
    {
     "data": {
      "image/png": "[encoded data removed]",
      "text/plain": [
       "<Figure size 432x432 with 1 Axes>"
      ]
     },
     "metadata": {},
     "output_type": "display_data"
    }
   ],
   "source": [
    "step_total = upd_total['ClosedStep'].value_counts()\n",
    "print(step_total)\n",
    "plt.figure(figsize=(6,6))\n",
    "plt.pie(x=step_total, colors=['lightcoral', 'lavender', 'lightblue', 'moccasin'], autopct='%.2f%%', textprops={'fontsize': 14})\n",
    "plt.title('ClosedStep results from V1 and V2', fontsize = 16)\n",
    "plt.legend(['Repeat', 'Iteration', 'Step', 'Update'], bbox_to_anchor=(1.05, 1), prop={'size':14})\n",
    "plt.show()\n"
   ]
  },
  {
   "cell_type": "markdown",
   "metadata": {},
   "source": [
    "`repeat` most frequent, `iteration` also fairly popular."
   ]
  },
  {
   "cell_type": "markdown",
   "metadata": {},
   "source": [
    "### ClosedEvent\n",
    "No significant difference based on experience."
   ]
  },
  {
   "cell_type": "code",
   "execution_count": 18,
   "metadata": {},
   "outputs": [
    {
     "name": "stdout",
     "output_type": "stream",
     "text": [
      "When        75\n",
      "Attach      36\n",
      "Connect     31\n",
      "Register    24\n",
      "On          18\n",
      "Name: ClosedEvent, dtype: int64\n"
     ]
    },
    {
     "data": {
      "image/png": "[encoded data removed]",
      "text/plain": [
       "<Figure size 432x432 with 1 Axes>"
      ]
     },
     "metadata": {},
     "output_type": "display_data"
    }
   ],
   "source": [
    "event_total = upd_total['ClosedEvent'].value_counts()\n",
    "print(event_total)\n",
    "plt.figure(figsize=(6,6))\n",
    "plt.pie(x=event_total, colors=['lightcoral', 'lavender', 'lightblue', 'moccasin', 'darkseagreen'], autopct='%.2f%%', textprops={'fontsize': 14})\n",
    "plt.title('ClosedEvent results from V1 and V2', fontsize = 16)\n",
    "plt.legend(['When', 'Attach', 'Connect', 'Register', 'On'], bbox_to_anchor=(1.05, 1), prop={'size':14})\n",
    "plt.show()\n"
   ]
  },
  {
   "cell_type": "markdown",
   "metadata": {},
   "source": [
    "'when' evidently most common."
   ]
  },
  {
   "cell_type": "markdown",
   "metadata": {},
   "source": [
    "### ClosedState\n",
    "Significant difference based on experience."
   ]
  },
  {
   "cell_type": "code",
   "execution_count": 19,
   "metadata": {},
   "outputs": [
    {
     "name": "stdout",
     "output_type": "stream",
     "text": [
      "ClosedState by experience\n"
     ]
    },
    {
     "data": {
      "text/html": [
       "<div>\n",
       "<style scoped>\n",
       "    .dataframe tbody tr th:only-of-type {\n",
       "        vertical-align: middle;\n",
       "    }\n",
       "\n",
       "    .dataframe tbody tr th {\n",
       "        vertical-align: top;\n",
       "    }\n",
       "\n",
       "    .dataframe thead th {\n",
       "        text-align: right;\n",
       "    }\n",
       "</style>\n",
       "<table border=\"1\" class=\"dataframe\">\n",
       "  <thead>\n",
       "    <tr style=\"text-align: right;\">\n",
       "      <th></th>\n",
       "      <th>ClosedState</th>\n",
       "      <th>moment</th>\n",
       "      <th>state</th>\n",
       "      <th>status</th>\n",
       "      <th>world</th>\n",
       "      <th>All</th>\n",
       "    </tr>\n",
       "    <tr>\n",
       "      <th>Prior</th>\n",
       "      <th>PriorGameDev</th>\n",
       "      <th></th>\n",
       "      <th></th>\n",
       "      <th></th>\n",
       "      <th></th>\n",
       "      <th></th>\n",
       "    </tr>\n",
       "  </thead>\n",
       "  <tbody>\n",
       "    <tr>\n",
       "      <th rowspan=\"2\" valign=\"top\">False</th>\n",
       "      <th>No.</th>\n",
       "      <td>28</td>\n",
       "      <td>22</td>\n",
       "      <td>18</td>\n",
       "      <td>2</td>\n",
       "      <td>70</td>\n",
       "    </tr>\n",
       "    <tr>\n",
       "      <th>Yes.</th>\n",
       "      <td>3</td>\n",
       "      <td>1</td>\n",
       "      <td>2</td>\n",
       "      <td>0</td>\n",
       "      <td>6</td>\n",
       "    </tr>\n",
       "    <tr>\n",
       "      <th rowspan=\"2\" valign=\"top\">True</th>\n",
       "      <th>No.</th>\n",
       "      <td>12</td>\n",
       "      <td>21</td>\n",
       "      <td>19</td>\n",
       "      <td>0</td>\n",
       "      <td>52</td>\n",
       "    </tr>\n",
       "    <tr>\n",
       "      <th>Yes.</th>\n",
       "      <td>7</td>\n",
       "      <td>30</td>\n",
       "      <td>18</td>\n",
       "      <td>1</td>\n",
       "      <td>56</td>\n",
       "    </tr>\n",
       "  </tbody>\n",
       "</table>\n",
       "</div>"
      ],
      "text/plain": [
       "ClosedState         moment  state  status  world  All\n",
       "Prior PriorGameDev                                   \n",
       "False No.               28     22      18      2   70\n",
       "      Yes.               3      1       2      0    6\n",
       "True  No.               12     21      19      0   52\n",
       "      Yes.               7     30      18      1   56"
      ]
     },
     "metadata": {},
     "output_type": "display_data"
    },
    {
     "data": {
      "image/png": "[encoded data removed]",
      "text/plain": [
       "<Figure size 576x576 with 1 Axes>"
      ]
     },
     "metadata": {
      "needs_background": "light"
     },
     "output_type": "display_data"
    }
   ],
   "source": [
    "state_total = make_exp_table(upd_total, 'ClosedState')\n",
    "state_total = state_total.drop(labels=\"All\", axis=0)\n",
    "display(state_total)\n",
    "moment = state_total['moment']\n",
    "labels = ['No Prgm.,\\nNo Game Dev.', 'No Prgm.,\\nGame Dev.', 'Prgm.,\\nNo Game Dev.', 'Prgm.,\\nGame Dev.']\n",
    "x = np.arange(len(labels))\n",
    "width = .20\n",
    "fig, ax = plt.subplots(figsize=(8,8))\n",
    "moment_bar = ax.bar(x - width*(3/2), moment, width, label=\"moment\", color='lightcoral')\n",
    "state = state_total['state']\n",
    "state_bar = ax.bar(x - width*.5, state, width, label=\"state\", color='lightblue')\n",
    "status = state_total['status']\n",
    "status_bar = ax.bar(x+width*.5, status, width, label='status', color='moccasin')\n",
    "world = state_total['world']\n",
    "world_bar = ax.bar(x + width*1.5, world, width, label='world', color='darkseagreen')\n",
    "ax.set_title('ClosedState Responses by Experience', fontsize=20)\n",
    "ax.set_ylabel('Responses', fontsize=20)\n",
    "ax.set_xlabel('Prior Experience Level', fontsize = 20)\n",
    "ax.set_xticks(x)\n",
    "ax.set_xticklabels(labels, fontsize=12)\n",
    "ax.legend(prop={'size':14})\n",
    "fig.tight_layout()\n",
    "plt.show()"
   ]
  },
  {
   "cell_type": "markdown",
   "metadata": {},
   "source": [
    "As initially noticed in V1, `moment` is more popular among participants without prior game development experience and not as popular among students with game development and programming experience. `state` is still most popular overall. "
   ]
  },
  {
   "cell_type": "markdown",
   "metadata": {},
   "source": [
    "### OpenSprite \n",
    "Significant difference based on experience.\n",
    "All results entered at least two times. Accounts for plurals. For example `character` represents responses of `character` or `characters`."
   ]
  },
  {
   "cell_type": "code",
   "execution_count": 20,
   "metadata": {},
   "outputs": [
    {
     "name": "stdout",
     "output_type": "stream",
     "text": [
      "OpenSprite by experience\n"
     ]
    },
    {
     "data": {
      "text/html": [
       "<div>\n",
       "<style scoped>\n",
       "    .dataframe tbody tr th:only-of-type {\n",
       "        vertical-align: middle;\n",
       "    }\n",
       "\n",
       "    .dataframe tbody tr th {\n",
       "        vertical-align: top;\n",
       "    }\n",
       "\n",
       "    .dataframe thead th {\n",
       "        text-align: right;\n",
       "    }\n",
       "</style>\n",
       "<table border=\"1\" class=\"dataframe\">\n",
       "  <thead>\n",
       "    <tr style=\"text-align: right;\">\n",
       "      <th></th>\n",
       "      <th>OpenSprite</th>\n",
       "      <th>object</th>\n",
       "      <th>character</th>\n",
       "      <th>sprite</th>\n",
       "      <th>nan</th>\n",
       "      <th>figure</th>\n",
       "      <th>element</th>\n",
       "      <th>item</th>\n",
       "      <th>candy</th>\n",
       "      <th>animation</th>\n",
       "      <th>entitie</th>\n",
       "      <th>asset</th>\n",
       "      <th>characters</th>\n",
       "      <th>game element</th>\n",
       "      <th>bubble</th>\n",
       "      <th>component</th>\n",
       "      <th>objective</th>\n",
       "    </tr>\n",
       "    <tr>\n",
       "      <th>Prior</th>\n",
       "      <th>PriorGameDev</th>\n",
       "      <th></th>\n",
       "      <th></th>\n",
       "      <th></th>\n",
       "      <th></th>\n",
       "      <th></th>\n",
       "      <th></th>\n",
       "      <th></th>\n",
       "      <th></th>\n",
       "      <th></th>\n",
       "      <th></th>\n",
       "      <th></th>\n",
       "      <th></th>\n",
       "      <th></th>\n",
       "      <th></th>\n",
       "      <th></th>\n",
       "      <th></th>\n",
       "    </tr>\n",
       "  </thead>\n",
       "  <tbody>\n",
       "    <tr>\n",
       "      <th rowspan=\"2\" valign=\"top\">False</th>\n",
       "      <th>No.</th>\n",
       "      <td>11</td>\n",
       "      <td>14</td>\n",
       "      <td>2</td>\n",
       "      <td>0</td>\n",
       "      <td>4</td>\n",
       "      <td>4</td>\n",
       "      <td>1</td>\n",
       "      <td>3</td>\n",
       "      <td>0</td>\n",
       "      <td>2</td>\n",
       "      <td>2</td>\n",
       "      <td>2</td>\n",
       "      <td>1</td>\n",
       "      <td>2</td>\n",
       "      <td>2</td>\n",
       "      <td>1</td>\n",
       "    </tr>\n",
       "    <tr>\n",
       "      <th>Yes.</th>\n",
       "      <td>1</td>\n",
       "      <td>1</td>\n",
       "      <td>0</td>\n",
       "      <td>0</td>\n",
       "      <td>0</td>\n",
       "      <td>0</td>\n",
       "      <td>1</td>\n",
       "      <td>0</td>\n",
       "      <td>0</td>\n",
       "      <td>0</td>\n",
       "      <td>0</td>\n",
       "      <td>0</td>\n",
       "      <td>0</td>\n",
       "      <td>0</td>\n",
       "      <td>0</td>\n",
       "      <td>0</td>\n",
       "    </tr>\n",
       "    <tr>\n",
       "      <th rowspan=\"2\" valign=\"top\">True</th>\n",
       "      <th>No.</th>\n",
       "      <td>12</td>\n",
       "      <td>9</td>\n",
       "      <td>4</td>\n",
       "      <td>1</td>\n",
       "      <td>4</td>\n",
       "      <td>0</td>\n",
       "      <td>2</td>\n",
       "      <td>1</td>\n",
       "      <td>2</td>\n",
       "      <td>1</td>\n",
       "      <td>1</td>\n",
       "      <td>0</td>\n",
       "      <td>0</td>\n",
       "      <td>0</td>\n",
       "      <td>0</td>\n",
       "      <td>0</td>\n",
       "    </tr>\n",
       "    <tr>\n",
       "      <th>Yes.</th>\n",
       "      <td>12</td>\n",
       "      <td>10</td>\n",
       "      <td>12</td>\n",
       "      <td>11</td>\n",
       "      <td>0</td>\n",
       "      <td>3</td>\n",
       "      <td>2</td>\n",
       "      <td>2</td>\n",
       "      <td>2</td>\n",
       "      <td>1</td>\n",
       "      <td>1</td>\n",
       "      <td>0</td>\n",
       "      <td>1</td>\n",
       "      <td>0</td>\n",
       "      <td>0</td>\n",
       "      <td>1</td>\n",
       "    </tr>\n",
       "    <tr>\n",
       "      <th>All</th>\n",
       "      <th></th>\n",
       "      <td>36</td>\n",
       "      <td>34</td>\n",
       "      <td>18</td>\n",
       "      <td>12</td>\n",
       "      <td>8</td>\n",
       "      <td>7</td>\n",
       "      <td>6</td>\n",
       "      <td>6</td>\n",
       "      <td>4</td>\n",
       "      <td>4</td>\n",
       "      <td>4</td>\n",
       "      <td>2</td>\n",
       "      <td>2</td>\n",
       "      <td>2</td>\n",
       "      <td>2</td>\n",
       "      <td>2</td>\n",
       "    </tr>\n",
       "  </tbody>\n",
       "</table>\n",
       "</div>"
      ],
      "text/plain": [
       "OpenSprite          object  character  sprite  nan  figure  element  item  \\\n",
       "Prior PriorGameDev                                                          \n",
       "False No.               11         14       2    0       4        4     1   \n",
       "      Yes.               1          1       0    0       0        0     1   \n",
       "True  No.               12          9       4    1       4        0     2   \n",
       "      Yes.              12         10      12   11       0        3     2   \n",
       "All                     36         34      18   12       8        7     6   \n",
       "\n",
       "OpenSprite          candy  animation  entitie  asset  characters  \\\n",
       "Prior PriorGameDev                                                 \n",
       "False No.               3          0        2      2           2   \n",
       "      Yes.              0          0        0      0           0   \n",
       "True  No.               1          2        1      1           0   \n",
       "      Yes.              2          2        1      1           0   \n",
       "All                     6          4        4      4           2   \n",
       "\n",
       "OpenSprite          game element  bubble  component  objective  \n",
       "Prior PriorGameDev                                              \n",
       "False No.                      1       2          2          1  \n",
       "      Yes.                     0       0          0          0  \n",
       "True  No.                      0       0          0          0  \n",
       "      Yes.                     1       0          0          1  \n",
       "All                            2       2          2          2  "
      ]
     },
     "execution_count": 20,
     "metadata": {},
     "output_type": "execute_result"
    }
   ],
   "source": [
    "upd_total['OpenSprite'] = upd_total['OpenSprite'].apply(clean_text)\n",
    "open_results = (analyze_free_response(upd_total, 'OpenSprite', True))\n",
    "open_results = open_results.drop(open_results.columns[16:], axis=1)\n",
    "open_results"
   ]
  },
  {
   "cell_type": "markdown",
   "metadata": {},
   "source": [
    "### Closed Sprite\n",
    "Signficantly difference based on experience. "
   ]
  },
  {
   "cell_type": "code",
   "execution_count": 21,
   "metadata": {},
   "outputs": [
    {
     "name": "stdout",
     "output_type": "stream",
     "text": [
      "ClosedSprite by experience\n"
     ]
    },
    {
     "data": {
      "text/html": [
       "<div>\n",
       "<style scoped>\n",
       "    .dataframe tbody tr th:only-of-type {\n",
       "        vertical-align: middle;\n",
       "    }\n",
       "\n",
       "    .dataframe tbody tr th {\n",
       "        vertical-align: top;\n",
       "    }\n",
       "\n",
       "    .dataframe thead th {\n",
       "        text-align: right;\n",
       "    }\n",
       "</style>\n",
       "<table border=\"1\" class=\"dataframe\">\n",
       "  <thead>\n",
       "    <tr style=\"text-align: right;\">\n",
       "      <th></th>\n",
       "      <th>ClosedSprite</th>\n",
       "      <th>All</th>\n",
       "      <th>objects</th>\n",
       "      <th>characters</th>\n",
       "      <th>sprites</th>\n",
       "      <th>images</th>\n",
       "      <th>drawables</th>\n",
       "      <th>pictures</th>\n",
       "      <th>pixels</th>\n",
       "    </tr>\n",
       "    <tr>\n",
       "      <th>Prior</th>\n",
       "      <th>PriorGameDev</th>\n",
       "      <th></th>\n",
       "      <th></th>\n",
       "      <th></th>\n",
       "      <th></th>\n",
       "      <th></th>\n",
       "      <th></th>\n",
       "      <th></th>\n",
       "      <th></th>\n",
       "    </tr>\n",
       "  </thead>\n",
       "  <tbody>\n",
       "    <tr>\n",
       "      <th rowspan=\"2\" valign=\"top\">False</th>\n",
       "      <th>No.</th>\n",
       "      <td>70</td>\n",
       "      <td>28</td>\n",
       "      <td>25</td>\n",
       "      <td>14</td>\n",
       "      <td>1</td>\n",
       "      <td>0</td>\n",
       "      <td>1</td>\n",
       "      <td>1</td>\n",
       "    </tr>\n",
       "    <tr>\n",
       "      <th>Yes.</th>\n",
       "      <td>6</td>\n",
       "      <td>3</td>\n",
       "      <td>2</td>\n",
       "      <td>0</td>\n",
       "      <td>0</td>\n",
       "      <td>1</td>\n",
       "      <td>0</td>\n",
       "      <td>0</td>\n",
       "    </tr>\n",
       "    <tr>\n",
       "      <th rowspan=\"2\" valign=\"top\">True</th>\n",
       "      <th>No.</th>\n",
       "      <td>52</td>\n",
       "      <td>20</td>\n",
       "      <td>17</td>\n",
       "      <td>14</td>\n",
       "      <td>1</td>\n",
       "      <td>0</td>\n",
       "      <td>0</td>\n",
       "      <td>0</td>\n",
       "    </tr>\n",
       "    <tr>\n",
       "      <th>Yes.</th>\n",
       "      <td>55</td>\n",
       "      <td>26</td>\n",
       "      <td>10</td>\n",
       "      <td>19</td>\n",
       "      <td>0</td>\n",
       "      <td>0</td>\n",
       "      <td>0</td>\n",
       "      <td>0</td>\n",
       "    </tr>\n",
       "  </tbody>\n",
       "</table>\n",
       "</div>"
      ],
      "text/plain": [
       "ClosedSprite        All  objects  characters  sprites  images  drawables  \\\n",
       "Prior PriorGameDev                                                         \n",
       "False No.            70       28          25       14       1          0   \n",
       "      Yes.            6        3           2        0       0          1   \n",
       "True  No.            52       20          17       14       1          0   \n",
       "      Yes.           55       26          10       19       0          0   \n",
       "\n",
       "ClosedSprite        pictures  pixels  \n",
       "Prior PriorGameDev                    \n",
       "False No.                  1       1  \n",
       "      Yes.                 0       0  \n",
       "True  No.                  0       0  \n",
       "      Yes.                 0       0  "
      ]
     },
     "metadata": {},
     "output_type": "display_data"
    },
    {
     "data": {
      "image/png": "[encoded data removed]",
      "text/plain": [
       "<Figure size 576x576 with 1 Axes>"
      ]
     },
     "metadata": {
      "needs_background": "light"
     },
     "output_type": "display_data"
    }
   ],
   "source": [
    "sprite = make_exp_table(upd_total, 'ClosedSprite').sort_values(('All',''), axis=1, ascending=False)\n",
    "sprite = sprite.drop(labels=\"All\", axis=0)\n",
    "display(sprite)\n",
    "objects = sprite['objects']\n",
    "labels = ['No Prog.,\\nNo Game', 'No Prog.,\\nGame', 'Prog.,\\nNo Game', 'Prog.,\\nGame']\n",
    "x = np.arange(len(labels))\n",
    "width = .20\n",
    "fig, ax = plt.subplots(figsize=(8,8))\n",
    "objects_bar = ax.bar(x - width, objects, width, label=\"objects\", color='lightcoral')\n",
    "characters = sprite['characters']\n",
    "char_bar = ax.bar(x, characters, width, label=\"characters\", color='lightblue')\n",
    "sprites = sprite['sprites']\n",
    "sprites_bar = ax.bar(x + width, sprites, width, label='sprites', color='moccasin')\n",
    "ax.set_title('ClosedSprite Responses by Experience',fontsize=20)\n",
    "ax.set_ylabel('Responses', fontsize=20)\n",
    "ax.set_xlabel('Prior Experience Level', fontsize=20)\n",
    "ax.set_xticks(x)\n",
    "ax.set_xticklabels(labels, fontsize=12)\n",
    "ax.legend(prop={'size':14})\n",
    "fig.tight_layout()"
   ]
  },
  {
   "cell_type": "markdown",
   "metadata": {},
   "source": [
    "More participants without prior game development experience preferred characters. Objects most popular overall. "
   ]
  },
  {
   "cell_type": "markdown",
   "metadata": {},
   "source": [
    "## When V1 and V2 data cannot be pooled\n",
    "Investigating responses with signficant differences between V1 and V2."
   ]
  },
  {
   "cell_type": "markdown",
   "metadata": {},
   "source": [
    "## OpenShape"
   ]
  },
  {
   "cell_type": "code",
   "execution_count": 22,
   "metadata": {},
   "outputs": [
    {
     "name": "stdout",
     "output_type": "stream",
     "text": [
      "OpenShape contingency table\n"
     ]
    },
    {
     "data": {
      "text/html": [
       "<div>\n",
       "<style scoped>\n",
       "    .dataframe tbody tr th:only-of-type {\n",
       "        vertical-align: middle;\n",
       "    }\n",
       "\n",
       "    .dataframe tbody tr th {\n",
       "        vertical-align: top;\n",
       "    }\n",
       "\n",
       "    .dataframe thead th {\n",
       "        text-align: right;\n",
       "    }\n",
       "</style>\n",
       "<table border=\"1\" class=\"dataframe\">\n",
       "  <thead>\n",
       "    <tr style=\"text-align: right;\">\n",
       "      <th>OpenShape</th>\n",
       "      <th>rectangle</th>\n",
       "      <th>draw_rectangle</th>\n",
       "      <th>nan</th>\n",
       "      <th>make_rectangle</th>\n",
       "      <th>create_rectangle</th>\n",
       "      <th>generate_rectangle</th>\n",
       "      <th>shape</th>\n",
       "      <th>draw_square</th>\n",
       "      <th>rect</th>\n",
       "      <th>generate_rect</th>\n",
       "      <th>square</th>\n",
       "      <th>make_rect</th>\n",
       "      <th>makerectangle</th>\n",
       "      <th>draw_rect</th>\n",
       "      <th>i don't know</th>\n",
       "    </tr>\n",
       "    <tr>\n",
       "      <th>Version</th>\n",
       "      <th></th>\n",
       "      <th></th>\n",
       "      <th></th>\n",
       "      <th></th>\n",
       "      <th></th>\n",
       "      <th></th>\n",
       "      <th></th>\n",
       "      <th></th>\n",
       "      <th></th>\n",
       "      <th></th>\n",
       "      <th></th>\n",
       "      <th></th>\n",
       "      <th></th>\n",
       "      <th></th>\n",
       "      <th></th>\n",
       "    </tr>\n",
       "  </thead>\n",
       "  <tbody>\n",
       "    <tr>\n",
       "      <th>1</th>\n",
       "      <td>11</td>\n",
       "      <td>16</td>\n",
       "      <td>0</td>\n",
       "      <td>11</td>\n",
       "      <td>7</td>\n",
       "      <td>2</td>\n",
       "      <td>2</td>\n",
       "      <td>4</td>\n",
       "      <td>2</td>\n",
       "      <td>1</td>\n",
       "      <td>2</td>\n",
       "      <td>1</td>\n",
       "      <td>1</td>\n",
       "      <td>1</td>\n",
       "      <td>0</td>\n",
       "    </tr>\n",
       "    <tr>\n",
       "      <th>2</th>\n",
       "      <td>51</td>\n",
       "      <td>6</td>\n",
       "      <td>14</td>\n",
       "      <td>1</td>\n",
       "      <td>5</td>\n",
       "      <td>4</td>\n",
       "      <td>3</td>\n",
       "      <td>0</td>\n",
       "      <td>2</td>\n",
       "      <td>1</td>\n",
       "      <td>0</td>\n",
       "      <td>1</td>\n",
       "      <td>1</td>\n",
       "      <td>1</td>\n",
       "      <td>2</td>\n",
       "    </tr>\n",
       "    <tr>\n",
       "      <th>All</th>\n",
       "      <td>62</td>\n",
       "      <td>22</td>\n",
       "      <td>14</td>\n",
       "      <td>12</td>\n",
       "      <td>12</td>\n",
       "      <td>6</td>\n",
       "      <td>5</td>\n",
       "      <td>4</td>\n",
       "      <td>4</td>\n",
       "      <td>2</td>\n",
       "      <td>2</td>\n",
       "      <td>2</td>\n",
       "      <td>2</td>\n",
       "      <td>2</td>\n",
       "      <td>2</td>\n",
       "    </tr>\n",
       "  </tbody>\n",
       "</table>\n",
       "</div>"
      ],
      "text/plain": [
       "OpenShape  rectangle  draw_rectangle  nan  make_rectangle  create_rectangle  \\\n",
       "Version                                                                       \n",
       "1                 11              16    0              11                 7   \n",
       "2                 51               6   14               1                 5   \n",
       "All               62              22   14              12                12   \n",
       "\n",
       "OpenShape  generate_rectangle  shape  draw_square  rect  generate_rect  \\\n",
       "Version                                                                  \n",
       "1                           2      2            4     2              1   \n",
       "2                           4      3            0     2              1   \n",
       "All                         6      5            4     4              2   \n",
       "\n",
       "OpenShape  square  make_rect  makerectangle  draw_rect  i don't know  \n",
       "Version                                                               \n",
       "1               2          1              1          1             0  \n",
       "2               0          1              1          1             2  \n",
       "All             2          2              2          2             2  "
      ]
     },
     "execution_count": 22,
     "metadata": {},
     "output_type": "execute_result"
    }
   ],
   "source": [
    "total['OpenShape'] = total['OpenShape'].apply(clean_text)\n",
    "open_shape_results = analyze_free_response(total, 'OpenShape', False)\n",
    "open_shape_results  = open_shape_results.drop(open_shape_results.columns[15:], axis=1)\n",
    "open_shape_results"
   ]
  },
  {
   "cell_type": "markdown",
   "metadata": {},
   "source": [
    "`rectangle` more popular in V2, `draw_rectangle` more popular in V1. "
   ]
  },
  {
   "cell_type": "markdown",
   "metadata": {},
   "source": [
    "## ClosedScreen\n",
    "Significant based on survey version. \n",
    "Visualizations are weird with added option."
   ]
  },
  {
   "cell_type": "code",
   "execution_count": 23,
   "metadata": {},
   "outputs": [
    {
     "name": "stdout",
     "output_type": "stream",
     "text": [
      "ClosedScreen contingency table\n"
     ]
    },
    {
     "data": {
      "text/html": [
       "<div>\n",
       "<style scoped>\n",
       "    .dataframe tbody tr th:only-of-type {\n",
       "        vertical-align: middle;\n",
       "    }\n",
       "\n",
       "    .dataframe tbody tr th {\n",
       "        vertical-align: top;\n",
       "    }\n",
       "\n",
       "    .dataframe thead th {\n",
       "        text-align: right;\n",
       "    }\n",
       "</style>\n",
       "<table border=\"1\" class=\"dataframe\">\n",
       "  <thead>\n",
       "    <tr style=\"text-align: right;\">\n",
       "      <th>ClosedScreen</th>\n",
       "      <th>All</th>\n",
       "      <th>Window</th>\n",
       "      <th>Screen</th>\n",
       "      <th>View</th>\n",
       "      <th>Scene</th>\n",
       "      <th>World</th>\n",
       "      <th>Level</th>\n",
       "      <th>Camera</th>\n",
       "    </tr>\n",
       "    <tr>\n",
       "      <th>Version</th>\n",
       "      <th></th>\n",
       "      <th></th>\n",
       "      <th></th>\n",
       "      <th></th>\n",
       "      <th></th>\n",
       "      <th></th>\n",
       "      <th></th>\n",
       "      <th></th>\n",
       "    </tr>\n",
       "  </thead>\n",
       "  <tbody>\n",
       "    <tr>\n",
       "      <th>1</th>\n",
       "      <td>76</td>\n",
       "      <td>0</td>\n",
       "      <td>30</td>\n",
       "      <td>23</td>\n",
       "      <td>15</td>\n",
       "      <td>4</td>\n",
       "      <td>2</td>\n",
       "      <td>2</td>\n",
       "    </tr>\n",
       "    <tr>\n",
       "      <th>2</th>\n",
       "      <td>107</td>\n",
       "      <td>53</td>\n",
       "      <td>22</td>\n",
       "      <td>6</td>\n",
       "      <td>12</td>\n",
       "      <td>7</td>\n",
       "      <td>7</td>\n",
       "      <td>0</td>\n",
       "    </tr>\n",
       "    <tr>\n",
       "      <th>All</th>\n",
       "      <td>183</td>\n",
       "      <td>53</td>\n",
       "      <td>52</td>\n",
       "      <td>29</td>\n",
       "      <td>27</td>\n",
       "      <td>11</td>\n",
       "      <td>9</td>\n",
       "      <td>2</td>\n",
       "    </tr>\n",
       "  </tbody>\n",
       "</table>\n",
       "</div>"
      ],
      "text/plain": [
       "ClosedScreen  All  Window  Screen  View  Scene  World  Level  Camera\n",
       "Version                                                             \n",
       "1              76       0      30    23     15      4      2       2\n",
       "2             107      53      22     6     12      7      7       0\n",
       "All           183      53      52    29     27     11      9       2"
      ]
     },
     "metadata": {},
     "output_type": "display_data"
    },
    {
     "data": {
      "text/html": [
       "<div>\n",
       "<style scoped>\n",
       "    .dataframe tbody tr th:only-of-type {\n",
       "        vertical-align: middle;\n",
       "    }\n",
       "\n",
       "    .dataframe tbody tr th {\n",
       "        vertical-align: top;\n",
       "    }\n",
       "\n",
       "    .dataframe thead th {\n",
       "        text-align: right;\n",
       "    }\n",
       "</style>\n",
       "<table border=\"1\" class=\"dataframe\">\n",
       "  <thead>\n",
       "    <tr style=\"text-align: right;\">\n",
       "      <th>ClosedScreen</th>\n",
       "      <th>Window</th>\n",
       "      <th>Screen</th>\n",
       "      <th>View</th>\n",
       "      <th>Scene</th>\n",
       "      <th>World</th>\n",
       "      <th>Level</th>\n",
       "      <th>Camera</th>\n",
       "    </tr>\n",
       "    <tr>\n",
       "      <th>Version</th>\n",
       "      <th></th>\n",
       "      <th></th>\n",
       "      <th></th>\n",
       "      <th></th>\n",
       "      <th></th>\n",
       "      <th></th>\n",
       "      <th></th>\n",
       "    </tr>\n",
       "  </thead>\n",
       "  <tbody>\n",
       "    <tr>\n",
       "      <th>1</th>\n",
       "      <td>0</td>\n",
       "      <td>30</td>\n",
       "      <td>23</td>\n",
       "      <td>15</td>\n",
       "      <td>4</td>\n",
       "      <td>2</td>\n",
       "      <td>2</td>\n",
       "    </tr>\n",
       "    <tr>\n",
       "      <th>2</th>\n",
       "      <td>53</td>\n",
       "      <td>22</td>\n",
       "      <td>6</td>\n",
       "      <td>12</td>\n",
       "      <td>7</td>\n",
       "      <td>7</td>\n",
       "      <td>0</td>\n",
       "    </tr>\n",
       "    <tr>\n",
       "      <th>All</th>\n",
       "      <td>53</td>\n",
       "      <td>52</td>\n",
       "      <td>29</td>\n",
       "      <td>27</td>\n",
       "      <td>11</td>\n",
       "      <td>9</td>\n",
       "      <td>2</td>\n",
       "    </tr>\n",
       "  </tbody>\n",
       "</table>\n",
       "</div>"
      ],
      "text/plain": [
       "ClosedScreen  Window  Screen  View  Scene  World  Level  Camera\n",
       "Version                                                        \n",
       "1                  0      30    23     15      4      2       2\n",
       "2                 53      22     6     12      7      7       0\n",
       "All               53      52    29     27     11      9       2"
      ]
     },
     "metadata": {},
     "output_type": "display_data"
    },
    {
     "data": {
      "image/png": "[encoded data removed]",
      "text/plain": [
       "<Figure size 432x432 with 1 Axes>"
      ]
     },
     "metadata": {},
     "output_type": "display_data"
    },
    {
     "data": {
      "image/png": "[encoded data removed]",
      "text/plain": [
       "<Figure size 432x432 with 1 Axes>"
      ]
     },
     "metadata": {},
     "output_type": "display_data"
    }
   ],
   "source": [
    "closed_tot = (make_table_by_q(total, 'ClosedScreen').sort_values(by='All', axis=1, ascending=False))\n",
    "display(closed_tot)\n",
    "closed_tot = closed_tot.drop(labels=\"All\", axis=1)\n",
    "display(closed_tot)\n",
    "labels = ['window', 'screen', 'view', 'scene', 'world', 'level']\n",
    "labels_v1 = labels[1:]\n",
    "v1_data = closed_tot.iloc[0]\n",
    "v1_data = v1_data[1:6]\n",
    "v2_data = closed_tot.iloc[1]\n",
    "v2_data = v2_data[:6]\n",
    "plt.figure(figsize=(6,6))\n",
    "plt.title('ClosedScreen Results V1', fontsize = 16)\n",
    "v1_pi = plt.pie(v1_data, colors=['lightcoral', 'lavender', 'lightblue', 'moccasin', 'darkseagreen'], autopct='%.2f%%', textprops={'fontsize': 14})\n",
    "plt.legend(labels_v1, bbox_to_anchor=(1.05, 1), prop={'size':14})\n",
    "plt.show()\n",
    "plt.figure(figsize=(6,6))\n",
    "plt.title('ClosedScreen Results V2', fontsize = 16)\n",
    "v2_pi = plt.pie(v2_data, colors=['sandybrown', 'lightcoral', 'lavender', 'lightblue', 'moccasin', 'darkseagreen'], autopct='%.2f%%', textprops={'fontsize': 12})\n",
    "plt.legend(labels, bbox_to_anchor=(1.05, 1), prop={'size':14})\n",
    "plt.show()"
   ]
  },
  {
   "cell_type": "markdown",
   "metadata": {},
   "source": [
    "Not including `window` in V1 affected results, considering it was not a survey option. V2 suggests `window` is popular option, `screen` as second option. \n",
    "## ClosedMovement"
   ]
  },
  {
   "cell_type": "code",
   "execution_count": 24,
   "metadata": {},
   "outputs": [
    {
     "name": "stdout",
     "output_type": "stream",
     "text": [
      "ClosedMovement contingency table\n"
     ]
    },
    {
     "data": {
      "text/html": [
       "<div>\n",
       "<style scoped>\n",
       "    .dataframe tbody tr th:only-of-type {\n",
       "        vertical-align: middle;\n",
       "    }\n",
       "\n",
       "    .dataframe tbody tr th {\n",
       "        vertical-align: top;\n",
       "    }\n",
       "\n",
       "    .dataframe thead th {\n",
       "        text-align: right;\n",
       "    }\n",
       "</style>\n",
       "<table border=\"1\" class=\"dataframe\">\n",
       "  <thead>\n",
       "    <tr style=\"text-align: right;\">\n",
       "      <th>ClosedMovement</th>\n",
       "      <th>Action</th>\n",
       "      <th>Animation</th>\n",
       "      <th>Glide</th>\n",
       "      <th>Movement</th>\n",
       "    </tr>\n",
       "    <tr>\n",
       "      <th>Version</th>\n",
       "      <th></th>\n",
       "      <th></th>\n",
       "      <th></th>\n",
       "      <th></th>\n",
       "    </tr>\n",
       "  </thead>\n",
       "  <tbody>\n",
       "    <tr>\n",
       "      <th>1</th>\n",
       "      <td>3</td>\n",
       "      <td>7</td>\n",
       "      <td>33</td>\n",
       "      <td>33</td>\n",
       "    </tr>\n",
       "    <tr>\n",
       "      <th>2</th>\n",
       "      <td>5</td>\n",
       "      <td>50</td>\n",
       "      <td>30</td>\n",
       "      <td>23</td>\n",
       "    </tr>\n",
       "    <tr>\n",
       "      <th>All</th>\n",
       "      <td>8</td>\n",
       "      <td>57</td>\n",
       "      <td>63</td>\n",
       "      <td>56</td>\n",
       "    </tr>\n",
       "  </tbody>\n",
       "</table>\n",
       "</div>"
      ],
      "text/plain": [
       "ClosedMovement  Action  Animation  Glide  Movement\n",
       "Version                                           \n",
       "1                    3          7     33        33\n",
       "2                    5         50     30        23\n",
       "All                  8         57     63        56"
      ]
     },
     "metadata": {},
     "output_type": "display_data"
    },
    {
     "data": {
      "image/png": "[encoded data removed]",
      "text/plain": [
       "<Figure size 432x432 with 1 Axes>"
      ]
     },
     "metadata": {},
     "output_type": "display_data"
    },
    {
     "data": {
      "image/png": "[encoded data removed]",
      "text/plain": [
       "<Figure size 432x432 with 1 Axes>"
      ]
     },
     "metadata": {},
     "output_type": "display_data"
    }
   ],
   "source": [
    "movement_tot = make_table_by_q(total, 'ClosedMovement')\n",
    "movement_tot = movement_tot.drop(labels=\"All\", axis=1)\n",
    "display(movement_tot)\n",
    "labels = ['action', 'animation', 'glide', 'movement']\n",
    "v1_data = movement_tot.iloc[0]\n",
    "v2_data = movement_tot.iloc[1]\n",
    "plt.figure(figsize=(6,6))\n",
    "plt.title('ClosedMovement Results V1', fontsize = 16)\n",
    "v1_pi = plt.pie(v1_data, colors=['lightcoral', 'lavender', 'lightblue', 'moccasin'], autopct='%.2f%%', textprops={'fontsize': 14})\n",
    "plt.legend(labels, bbox_to_anchor=(1.05, 1), prop={'size':14})\n",
    "plt.show()\n",
    "plt.figure(figsize=(6,6))\n",
    "plt.title('ClosedMovement Results from V2', fontsize = 16)\n",
    "v2_pi = plt.pie(v2_data, colors=['lightcoral', 'lavender', 'lightblue', 'moccasin'], autopct='%.2f%%', textprops={'fontsize': 14})\n",
    "plt.legend(labels, bbox_to_anchor=(1.05, 1), prop={'size':14})\n",
    "plt.show()"
   ]
  },
  {
   "cell_type": "markdown",
   "metadata": {},
   "source": [
    "`animation` more popular. Difference from V1 and V2 was wording changed to manage bias. Obviously, significant difference, suggests wording affects participant perception and bias. \n",
    "# Open-Ended Coding Question\n",
    "The final question of both v1 and v2 surveys showed students an animation of a frog across the screen and asked them to write code to animate it. Following is the analysis to these responses. \n",
    "Observe distributions and patterns in separate V1 and V2 data. "
   ]
  },
  {
   "cell_type": "code",
   "execution_count": 25,
   "metadata": {},
   "outputs": [
    {
     "name": "stdout",
     "output_type": "stream",
     "text": [
      "V1: \n"
     ]
    },
    {
     "data": {
      "image/png": "[encoded data removed]",
      "text/plain": [
       "<Figure size 432x288 with 1 Axes>"
      ]
     },
     "metadata": {
      "needs_background": "light"
     },
     "output_type": "display_data"
    },
    {
     "data": {
      "image/png": "[encoded data removed]",
      "text/plain": [
       "<Figure size 432x288 with 1 Axes>"
      ]
     },
     "metadata": {
      "needs_background": "light"
     },
     "output_type": "display_data"
    },
    {
     "name": "stdout",
     "output_type": "stream",
     "text": [
      "Num Lines Normality on an interval of .05:  0.8001936078071594 2.4016699171625078e-06 True\n",
      "Num Characters Normality on an interval of .05:  0.7900149822235107 1.4448777392317425e-06 True\n",
      "\n",
      "Broken: 6; Working: 70\n",
      "{'methods': 18, 'functions': 15, 'both': 2, 'test cases': 0, 'graphics': 0, 'pens': 0, 'for': 3, 'while': 2, 'if': 2, 'func def': 7}\n",
      "V2: \n"
     ]
    },
    {
     "data": {
      "image/png": "[encoded data removed]",
      "text/plain": [
       "<Figure size 432x288 with 1 Axes>"
      ]
     },
     "metadata": {
      "needs_background": "light"
     },
     "output_type": "display_data"
    },
    {
     "data": {
      "image/png": "[encoded data removed]",
      "text/plain": [
       "<Figure size 432x288 with 1 Axes>"
      ]
     },
     "metadata": {
      "needs_background": "light"
     },
     "output_type": "display_data"
    },
    {
     "name": "stdout",
     "output_type": "stream",
     "text": [
      "Num Lines Normality on an interval of .05:  0.4858640432357788 7.884292787326171e-16 True\n",
      "Num Characters Normality on an interval of .05:  0.7452929019927979 6.568793425865138e-11 True\n",
      "\n",
      "Broken: 34; Working: 84\n",
      "{'methods': 31, 'functions': 11, 'both': 1, 'test cases': 0, 'graphics': 0, 'pens': 0, 'for': 0, 'while': 1, 'if': 2, 'func def': 5}\n"
     ]
    }
   ],
   "source": [
    "print('V1: ')\n",
    "print(analyze_open_end(v1, 'GameDevOpenCode'))\n",
    "print('V2: ')\n",
    "print(analyze_open_end(v2, 'GameDevOpenCode'))"
   ]
  },
  {
   "cell_type": "markdown",
   "metadata": {},
   "source": [
    "All p-values are less than 0.05, meaning we reject the null hypothesis that line or character length of either survey version are normally distributed. Because these values are not normally distributed, we can perform Mann Whitney U tests to compare the version one and version two responses. "
   ]
  },
  {
   "cell_type": "code",
   "execution_count": 26,
   "metadata": {},
   "outputs": [
    {
     "name": "stdout",
     "output_type": "stream",
     "text": [
      "P-value of lines per response: 1.1529999803013193e-16,\n",
      "P-value of characters per response: 1.8128938277980706e-06\n"
     ]
    }
   ],
   "source": [
    "v1_char_line = avg_lines_char(v1, 'GameDevOpenCode')\n",
    "v2_char_line = avg_lines_char(v2, 'GameDevOpenCode')\n",
    "line_mwu, line_mwu_p = st.mannwhitneyu(x=v1_char_line[0], y=v2_char_line[0])\n",
    "char_mwu, char_mwu_p = st.mannwhitneyu(x=v1_char_line[1], y=v2_char_line[1])\n",
    "print(f\"P-value of lines per response: {line_mwu_p},\\nP-value of characters per response: {char_mwu_p}\")"
   ]
  },
  {
   "cell_type": "markdown",
   "metadata": {},
   "source": [
    "Both p-values comparing line and character numbers are significantly small, less than 0.05, so we reject the null hypothesis that there are no statistically significant differences of response length and survey version. This suggests responses cannot be compared together and should instead be looked at separately. "
   ]
  },
  {
   "cell_type": "code",
   "execution_count": 27,
   "metadata": {},
   "outputs": [],
   "source": [
    "# code not written by me, written by co-PI\n",
    "def attrib(code):\n",
    "    clear_report()\n",
    "    code = str(code)\n",
    "    calls = find_asts(\"Call\", code)\n",
    "    num_for = len(find_asts(\"For\", code))\n",
    "    num_while = len(find_asts(\"While\", code))\n",
    "    num_assign = len(find_asts(\"Assign\", code))\n",
    "    num_def = len(find_asts(\"FunctionDef\", code))\n",
    "    called_functions = [get_called_function(c.func) for c in calls]\n",
    "    call = False\n",
    "    for c in calls: \n",
    "        if (c.func.ast_name == \"Name\") or (c.func.ast_name == \"Attribute\"): \n",
    "            call = True\n",
    "        else: \n",
    "            call = False\n",
    "    try:\n",
    "        code = str(code)\n",
    "        ast.parse(code)\n",
    "        working = True\n",
    "    except SyntaxError:\n",
    "        working = False\n",
    "    if code == 'nan':\n",
    "         return \"empty\"\n",
    "    elif num_def:\n",
    "        return \"function definition\"\n",
    "    elif num_for or num_while:\n",
    "        return \"other construct\"\n",
    "    elif call:\n",
    "        return \"method/function call\"\n",
    "    elif num_assign:\n",
    "        return \"assignment\"\n",
    "    elif '#' in code or \"'''\" in code or '\"\"\"' in code:\n",
    "        return \"comment\"\n",
    "    elif not working: \n",
    "         return \"did not compile\"\n",
    "\n",
    "def open_by_version(df):\n",
    "    return df.groupby(['Prior', 'PriorGameDev'])['GameDevOpenCode'].apply(attrib).count()\n"
   ]
  },
  {
   "cell_type": "markdown",
   "metadata": {},
   "source": [
    "Classify responses based on conventions"
   ]
  },
  {
   "cell_type": "code",
   "execution_count": 28,
   "metadata": {},
   "outputs": [
    {
     "name": "stdout",
     "output_type": "stream",
     "text": [
      "Percentages of code conventions present in version 1 and version 2 responses: \n"
     ]
    },
    {
     "data": {
      "text/html": [
       "<div>\n",
       "<style scoped>\n",
       "    .dataframe tbody tr th:only-of-type {\n",
       "        vertical-align: middle;\n",
       "    }\n",
       "\n",
       "    .dataframe tbody tr th {\n",
       "        vertical-align: top;\n",
       "    }\n",
       "\n",
       "    .dataframe thead th {\n",
       "        text-align: right;\n",
       "    }\n",
       "</style>\n",
       "<table border=\"1\" class=\"dataframe\">\n",
       "  <thead>\n",
       "    <tr style=\"text-align: right;\">\n",
       "      <th></th>\n",
       "      <th>V1</th>\n",
       "      <th>V2</th>\n",
       "    </tr>\n",
       "    <tr>\n",
       "      <th>classification</th>\n",
       "      <th></th>\n",
       "      <th></th>\n",
       "    </tr>\n",
       "  </thead>\n",
       "  <tbody>\n",
       "    <tr>\n",
       "      <th>assignment</th>\n",
       "      <td>0</td>\n",
       "      <td>1.0</td>\n",
       "    </tr>\n",
       "    <tr>\n",
       "      <th>comment</th>\n",
       "      <td>0</td>\n",
       "      <td>0.0</td>\n",
       "    </tr>\n",
       "    <tr>\n",
       "      <th>did not compile</th>\n",
       "      <td>3</td>\n",
       "      <td>19.0</td>\n",
       "    </tr>\n",
       "    <tr>\n",
       "      <th>empty</th>\n",
       "      <td>7</td>\n",
       "      <td>11.0</td>\n",
       "    </tr>\n",
       "    <tr>\n",
       "      <th>function definition</th>\n",
       "      <td>1</td>\n",
       "      <td>0.0</td>\n",
       "    </tr>\n",
       "    <tr>\n",
       "      <th>method/function call</th>\n",
       "      <td>6</td>\n",
       "      <td>17.0</td>\n",
       "    </tr>\n",
       "    <tr>\n",
       "      <th>other construct</th>\n",
       "      <td>1</td>\n",
       "      <td>0.0</td>\n",
       "    </tr>\n",
       "  </tbody>\n",
       "</table>\n",
       "</div>"
      ],
      "text/plain": [
       "                      V1    V2\n",
       "classification                \n",
       "assignment             0   1.0\n",
       "comment                0   0.0\n",
       "did not compile        3  19.0\n",
       "empty                  7  11.0\n",
       "function definition    1   0.0\n",
       "method/function call   6  17.0\n",
       "other construct        1   0.0"
      ]
     },
     "execution_count": 28,
     "metadata": {},
     "output_type": "execute_result"
    }
   ],
   "source": [
    "def open_by_version(df):\n",
    "    classified = df.assign(classification=df.GameDevOpenCode.apply(attrib))\n",
    "    grouped_classes = classified.groupby(['Prior', 'PriorGameDev']).classification\n",
    "    classes_counts = grouped_classes.value_counts()\n",
    "    return classes_counts.unstack().fillna(0).astype(int)\n",
    "v1_open = open_by_version(v1).loc[False,'No.']\n",
    "# v1_open = v1_open.div(v1_open.agg(sum)).multiply(100).round(1)\n",
    "v2_open = open_by_version(v2).loc[False, 'No.']\n",
    "# v2_open = v2_open.div(v2_open.agg(sum)).multiply(100).round(1)\n",
    "open_total = pd.concat([v1_open, v2_open], axis = 1)\n",
    "open_total.columns = ['V1', 'V2']\n",
    "open_total = open_total.fillna(0)\n",
    "print(\"Code conventions present in version 1 and version 2 responses: \")\n",
    "open_total"
   ]
  },
  {
   "cell_type": "markdown",
   "metadata": {},
   "source": [
    "Notice an increase in number of responses that did not compile from v1 to v2. Is this a significant difference?\n",
    "Perform a chi-square test for independence to determine if this dependent on survey version. "
   ]
  },
  {
   "cell_type": "code",
   "execution_count": 30,
   "metadata": {},
   "outputs": [
    {
     "name": "stdout",
     "output_type": "stream",
     "text": [
      "P-value of response conventions based on survey version: 0.10511012676905432.\n"
     ]
    }
   ],
   "source": [
    "chi = st.chi2_contingency(pd.crosstab(open_total['V1'], open_total['V2']))\n",
    "print(f'P-value of response conventions based on survey version: {chi[1]}.')"
   ]
  },
  {
   "cell_type": "markdown",
   "metadata": {},
   "source": [
    "This is greater than our significance level of 0.05 so we accept the null hypothesis that the conventions of responses are independent of survey version. \n",
    "Therefore, even though there is that increase of responses that did not compile between survey versions, it is not a significant increase. "
   ]
  },
  {
   "cell_type": "markdown",
   "metadata": {},
   "source": [
    "### Results\n",
    "#### RQ1: What vocabulary do novices use when thinking about video games? and RQ2. Is there significant difference between survey results based on survey version (1 or 2) or participants prior programming and game development experience?\n",
    "\n",
    "Results to RQ2 support broader conclusions that answer RQ1. \n",
    "\n",
    "Regarding RQ2, there were some survey questions with significant difference based on survey version. For example, results to our survey question asking what students call an animation of a character walking across the screen were significantly different between survey versions. This difference may be explained by a survey design change from v1 to v2. We realized after launching v1 that the wording of the question may introduce bias, so when designing v2 we reworded the question to mitigate that bias. The significantly different results between survey versions suggests that the vocabulary that students use to think about video games depends on how game design concepts are framed to them. This insight into student vocabulary highlights not only the importance of choosing consistent phrasing for the game library API, but also the importance of intentional consistency when teaching game design concepts to students in the classroom. \n",
    "\n",
    "Also on the topic of RQ2, analysis of some survey questions suggests that there is not significant difference in responses based on prior experience of students or survey response - suggesting that some students think about game design concepts similarly regardless of their prior experience with programming and game development. Such concepts based on our analysis include in-place animations such as a character waving, of which the most popular response among students in our sample conceptualized as an `animation`. Additionally, most participants regardless of prior experience consider an iterative occurence as a `repeat`. \n",
    "\n",
    "Analysis of other survey responses suggest that there are some game design concepts that students may conceptualize differently depending on their prior levels of programming and game design experience. For example, when referring to a game's state at one particular moment, students without prior game development experience significantly preferred the term `moment` compared to students with prior experience. When asked about vocabulary regarding sprites, students without prior programming or game design experience chose `character` more than students with other levels of experience.  \n",
    "\n",
    "#### RQ3. Do results indicate game development vocabulary that best aligns with how novices think about video games? If so, what vocabulary is ideal?\n",
    "\n",
    "Much like the answer to RQ2: it's complicated. Some results already discussed were clearly favored, such as `repeat` as an iteration. However, results to the question asking about a character waving were most popularly `animation`, but `action` was almost equally favored. No response received the majority. As a result, there is not an \"ideal\", or most popular, result favored by all students regarding an in-place animation.  \n",
    "\n",
    "Results to the question asking about sprites showed general favorability towards both `character` and `object`. Although these were favored, they call into question what \"ideal\" means in this research question and this context. Although this is ideal in the sense that most students preferred these terms, are they ideal in a teaching environment? `object` and `character` both have different meanings in computer science contexts that students may learn in classes after introductory computer science - what are the risks of choosing these terms for a game library API that may interfere with students' further learning? These findings offer preliminary insight into students' thinking regarding game design and also offer further questions to be explored in future design of a game library API. \n",
    "\n",
    "### Conclusion \n",
    "\n",
    "Analysis of the survey one and survey two responses offers preliminary insight into how students think about game design before formally learning about game development in the classroom. In conclusion, the way students think about game design when considering prior experience is complicated and nuanced. Acknowledging ethical concerns, this data is not conclusive and depending too heavily only on this analysis ignores issues such as data collected from a PWI and the anecdotal choosing of terms to investigate. From this data analysi I can confidently conclude that there is always room to explore and ask more questions regarding how students learn computer science. "
   ]
  },
  {
   "cell_type": "code",
   "execution_count": null,
   "metadata": {},
   "outputs": [],
   "source": []
  },
  {
   "cell_type": "code",
   "execution_count": null,
   "metadata": {},
   "outputs": [],
   "source": []
  }
 ],
 "metadata": {
  "kernelspec": {
   "display_name": "surv_analysis",
   "language": "python",
   "name": "surv_analysis"
  },
  "language_info": {
   "codemirror_mode": {
    "name": "ipython",
    "version": 3
   },
   "file_extension": ".py",
   "mimetype": "text/x-python",
   "name": "python",
   "nbconvert_exporter": "python",
   "pygments_lexer": "ipython3",
   "version": "3.9.2"
  }
 },
 "nbformat": 4,
 "nbformat_minor": 4
}
